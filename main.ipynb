{
 "cells": [
  {
   "cell_type": "markdown",
   "metadata": {},
   "source": [
    "# Proyecto: Clustering y clasificación de Clientes\n",
    "\n",
    "<p>\n",
    "Alumno: Martin Adrian Ferraguti <br>\n",
    "Comisión: 60880 <br>\n",
    "Curso: Data Science II: Machine Learning para la Ciencia de Datos <br>\n",
    "</p>"
   ]
  },
  {
   "cell_type": "markdown",
   "metadata": {},
   "source": [
    "### Definición del objetivo:\n",
    "El presente proyecto tiene por objetivo: <br>\n",
    "1- Realizar la clusterización o segmentación de la base de clientes de la empresa “Ficticia” la cual pertenece al rubro de supermercados.<br>\n",
    "2- Intentar predecir la intención de compra de cada cliente.<br>\n",
    "\n",
    "Esto nos permitirá:<br>\n",
    "- Determinar la importancia de cada segmento de cliente para el negocio.<br>\n",
    "- Modificar la oferta de producto para que se adapten a las necesidades de estos.<br>\n",
    "- Entender sus necesidades e inquietudes.<br>\n",
    "- Optimizar las campañas de marketing concentrando esfuerzo sobre aquellos clientes que tengan mayor probabilidad de compra.<br>"
   ]
  },
  {
   "cell_type": "markdown",
   "metadata": {},
   "source": [
    "### Definición del contexto comercial:\n",
    "El presente proyecto se solicita en medio de un contexto socioeconómico general muy apremiante el cual está obligando a la empresa a tomar decisiones comerciales estratégicas, valiéndose para ello de la  información que ya tiene relevada de sus clientes y sus hábitos de consumo como un mecanismo para incrementar sus ventas por medio de procesos de marketing.<br>"
   ]
  },
  {
   "cell_type": "markdown",
   "metadata": {},
   "source": [
    "### Definición del problema comercial:\n",
    "Realizar la clusterización o segmentación de la cartera de clientes en función de sus hábitos de consumo y determinar la intención de compra de nuevos compradores de forma tal que resulte de utilidad al área de marketing para el desarrollo de campañas publicitarias.<br>"
   ]
  },
  {
   "cell_type": "markdown",
   "metadata": {},
   "source": [
    "### ![Liberías utilizadas](https://raw.githubusercontent.com/chetincho/proyecto_data_science_ii/main/img/librerias_utilizadas.jpg)"
   ]
  },
  {
   "cell_type": "code",
   "execution_count": 142,
   "metadata": {},
   "outputs": [],
   "source": [
    "import pandas as pd\n",
    "import matplotlib.pyplot as plt"
   ]
  },
  {
   "cell_type": "markdown",
   "metadata": {},
   "source": [
    "### ![Data Acquisition](https://raw.githubusercontent.com/chetincho/proyecto_data_science_ii/main/img/data_acquisition.jpg)\n",
    "Los datos son provistos por el data engineer en jefe de la empresa, el sr. Juan Carlos Anonimo. Dichos datos serán publicados automáticamente todos los lunes a las 09:50 hs hora Argentina, momento en el cual estarán disponibles para su consumo.<br>\n",
    "- Directorio de publicacion: github.com/datasets/data_acquisition/<br>\n",
    "- Nombre del archivo: data.csv<br>\n",
    "- Separador de columnas: punto y coma (;)<br>\n",
    "<br>\n",
    "Adicional se adjuntan los datos de contacto del referente del área.<br>\n",
    "Email: juancarlosanonimo@ficticia.com.ar<br>\n",
    "Horario laboral: de lunes a viernes de 09:00 a 17:00 hs<br>\n"
   ]
  },
  {
   "cell_type": "code",
   "execution_count": 181,
   "metadata": {},
   "outputs": [],
   "source": [
    "url = 'https://raw.githubusercontent.com/chetincho/proyecto_data_science_ii/main/dataset/data_acquisition/data.csv'\n",
    "df = pd.read_csv(url, encoding='latin1', delimiter=';')"
   ]
  },
  {
   "cell_type": "code",
   "execution_count": 182,
   "metadata": {},
   "outputs": [
    {
     "data": {
      "text/html": [
       "<div>\n",
       "<style scoped>\n",
       "    .dataframe tbody tr th:only-of-type {\n",
       "        vertical-align: middle;\n",
       "    }\n",
       "\n",
       "    .dataframe tbody tr th {\n",
       "        vertical-align: top;\n",
       "    }\n",
       "\n",
       "    .dataframe thead th {\n",
       "        text-align: right;\n",
       "    }\n",
       "</style>\n",
       "<table border=\"1\" class=\"dataframe\">\n",
       "  <thead>\n",
       "    <tr style=\"text-align: right;\">\n",
       "      <th></th>\n",
       "      <th>id_cliente</th>\n",
       "      <th>año_nac</th>\n",
       "      <th>educacion</th>\n",
       "      <th>estado_civil</th>\n",
       "      <th>ingresos_usd</th>\n",
       "      <th>cant_niños_casa</th>\n",
       "      <th>cant_adolecentes_casa</th>\n",
       "      <th>fch_alta_cliente</th>\n",
       "      <th>dias_ult_compra</th>\n",
       "      <th>gasto_total_vinos</th>\n",
       "      <th>...</th>\n",
       "      <th>cant_visitas_web_mes</th>\n",
       "      <th>campaña_mkt_1</th>\n",
       "      <th>campaña_mkt_2</th>\n",
       "      <th>campaña_mkt_3</th>\n",
       "      <th>campaña_mkt_4</th>\n",
       "      <th>campaña_mkt_5</th>\n",
       "      <th>quejas</th>\n",
       "      <th>id_base_contacto</th>\n",
       "      <th>cod_retorno_esperado</th>\n",
       "      <th>respuestas</th>\n",
       "    </tr>\n",
       "  </thead>\n",
       "  <tbody>\n",
       "    <tr>\n",
       "      <th>0</th>\n",
       "      <td>5524</td>\n",
       "      <td>1957</td>\n",
       "      <td>Universitario</td>\n",
       "      <td>Soltero</td>\n",
       "      <td>58138.0</td>\n",
       "      <td>0</td>\n",
       "      <td>0</td>\n",
       "      <td>4/9/2012</td>\n",
       "      <td>58</td>\n",
       "      <td>635</td>\n",
       "      <td>...</td>\n",
       "      <td>7</td>\n",
       "      <td>0</td>\n",
       "      <td>0</td>\n",
       "      <td>0</td>\n",
       "      <td>0</td>\n",
       "      <td>0</td>\n",
       "      <td>0</td>\n",
       "      <td>3</td>\n",
       "      <td>11</td>\n",
       "      <td>1</td>\n",
       "    </tr>\n",
       "    <tr>\n",
       "      <th>1</th>\n",
       "      <td>2174</td>\n",
       "      <td>1954</td>\n",
       "      <td>Universitario</td>\n",
       "      <td>Soltero</td>\n",
       "      <td>46344.0</td>\n",
       "      <td>1</td>\n",
       "      <td>1</td>\n",
       "      <td>8/3/2014</td>\n",
       "      <td>38</td>\n",
       "      <td>11</td>\n",
       "      <td>...</td>\n",
       "      <td>5</td>\n",
       "      <td>0</td>\n",
       "      <td>0</td>\n",
       "      <td>0</td>\n",
       "      <td>0</td>\n",
       "      <td>0</td>\n",
       "      <td>0</td>\n",
       "      <td>3</td>\n",
       "      <td>11</td>\n",
       "      <td>0</td>\n",
       "    </tr>\n",
       "    <tr>\n",
       "      <th>2</th>\n",
       "      <td>4141</td>\n",
       "      <td>1965</td>\n",
       "      <td>Universitario</td>\n",
       "      <td>En pareja</td>\n",
       "      <td>71613.0</td>\n",
       "      <td>0</td>\n",
       "      <td>0</td>\n",
       "      <td>21/8/2013</td>\n",
       "      <td>26</td>\n",
       "      <td>426</td>\n",
       "      <td>...</td>\n",
       "      <td>4</td>\n",
       "      <td>0</td>\n",
       "      <td>0</td>\n",
       "      <td>0</td>\n",
       "      <td>0</td>\n",
       "      <td>0</td>\n",
       "      <td>0</td>\n",
       "      <td>3</td>\n",
       "      <td>11</td>\n",
       "      <td>0</td>\n",
       "    </tr>\n",
       "    <tr>\n",
       "      <th>3</th>\n",
       "      <td>6182</td>\n",
       "      <td>1984</td>\n",
       "      <td>Universitario</td>\n",
       "      <td>En pareja</td>\n",
       "      <td>26646.0</td>\n",
       "      <td>1</td>\n",
       "      <td>0</td>\n",
       "      <td>10/2/2014</td>\n",
       "      <td>26</td>\n",
       "      <td>11</td>\n",
       "      <td>...</td>\n",
       "      <td>6</td>\n",
       "      <td>0</td>\n",
       "      <td>0</td>\n",
       "      <td>0</td>\n",
       "      <td>0</td>\n",
       "      <td>0</td>\n",
       "      <td>0</td>\n",
       "      <td>3</td>\n",
       "      <td>11</td>\n",
       "      <td>0</td>\n",
       "    </tr>\n",
       "    <tr>\n",
       "      <th>4</th>\n",
       "      <td>5324</td>\n",
       "      <td>1981</td>\n",
       "      <td>Doctorado</td>\n",
       "      <td>Casado</td>\n",
       "      <td>58293.0</td>\n",
       "      <td>1</td>\n",
       "      <td>0</td>\n",
       "      <td>19/1/2014</td>\n",
       "      <td>94</td>\n",
       "      <td>173</td>\n",
       "      <td>...</td>\n",
       "      <td>5</td>\n",
       "      <td>0</td>\n",
       "      <td>0</td>\n",
       "      <td>0</td>\n",
       "      <td>0</td>\n",
       "      <td>0</td>\n",
       "      <td>0</td>\n",
       "      <td>3</td>\n",
       "      <td>11</td>\n",
       "      <td>0</td>\n",
       "    </tr>\n",
       "  </tbody>\n",
       "</table>\n",
       "<p>5 rows × 29 columns</p>\n",
       "</div>"
      ],
      "text/plain": [
       "   id_cliente  año_nac      educacion estado_civil  ingresos_usd  \\\n",
       "0        5524     1957  Universitario      Soltero       58138.0   \n",
       "1        2174     1954  Universitario      Soltero       46344.0   \n",
       "2        4141     1965  Universitario    En pareja       71613.0   \n",
       "3        6182     1984  Universitario    En pareja       26646.0   \n",
       "4        5324     1981      Doctorado       Casado       58293.0   \n",
       "\n",
       "   cant_niños_casa  cant_adolecentes_casa fch_alta_cliente  dias_ult_compra  \\\n",
       "0                0                      0         4/9/2012               58   \n",
       "1                1                      1         8/3/2014               38   \n",
       "2                0                      0        21/8/2013               26   \n",
       "3                1                      0        10/2/2014               26   \n",
       "4                1                      0        19/1/2014               94   \n",
       "\n",
       "   gasto_total_vinos  ...  cant_visitas_web_mes  campaña_mkt_1  campaña_mkt_2  \\\n",
       "0                635  ...                     7              0              0   \n",
       "1                 11  ...                     5              0              0   \n",
       "2                426  ...                     4              0              0   \n",
       "3                 11  ...                     6              0              0   \n",
       "4                173  ...                     5              0              0   \n",
       "\n",
       "   campaña_mkt_3  campaña_mkt_4  campaña_mkt_5  quejas  id_base_contacto  \\\n",
       "0              0              0              0       0                 3   \n",
       "1              0              0              0       0                 3   \n",
       "2              0              0              0       0                 3   \n",
       "3              0              0              0       0                 3   \n",
       "4              0              0              0       0                 3   \n",
       "\n",
       "   cod_retorno_esperado  respuestas  \n",
       "0                    11           1  \n",
       "1                    11           0  \n",
       "2                    11           0  \n",
       "3                    11           0  \n",
       "4                    11           0  \n",
       "\n",
       "[5 rows x 29 columns]"
      ]
     },
     "execution_count": 182,
     "metadata": {},
     "output_type": "execute_result"
    }
   ],
   "source": [
    "df.head()"
   ]
  },
  {
   "cell_type": "code",
   "execution_count": 183,
   "metadata": {},
   "outputs": [
    {
     "data": {
      "text/html": [
       "<div>\n",
       "<style scoped>\n",
       "    .dataframe tbody tr th:only-of-type {\n",
       "        vertical-align: middle;\n",
       "    }\n",
       "\n",
       "    .dataframe tbody tr th {\n",
       "        vertical-align: top;\n",
       "    }\n",
       "\n",
       "    .dataframe thead th {\n",
       "        text-align: right;\n",
       "    }\n",
       "</style>\n",
       "<table border=\"1\" class=\"dataframe\">\n",
       "  <thead>\n",
       "    <tr style=\"text-align: right;\">\n",
       "      <th></th>\n",
       "      <th>id_cliente</th>\n",
       "      <th>año_nac</th>\n",
       "      <th>educacion</th>\n",
       "      <th>estado_civil</th>\n",
       "      <th>ingresos_usd</th>\n",
       "      <th>cant_niños_casa</th>\n",
       "      <th>cant_adolecentes_casa</th>\n",
       "      <th>fch_alta_cliente</th>\n",
       "      <th>dias_ult_compra</th>\n",
       "      <th>gasto_total_vinos</th>\n",
       "      <th>...</th>\n",
       "      <th>cant_visitas_web_mes</th>\n",
       "      <th>campaña_mkt_1</th>\n",
       "      <th>campaña_mkt_2</th>\n",
       "      <th>campaña_mkt_3</th>\n",
       "      <th>campaña_mkt_4</th>\n",
       "      <th>campaña_mkt_5</th>\n",
       "      <th>quejas</th>\n",
       "      <th>id_base_contacto</th>\n",
       "      <th>cod_retorno_esperado</th>\n",
       "      <th>respuestas</th>\n",
       "    </tr>\n",
       "  </thead>\n",
       "  <tbody>\n",
       "    <tr>\n",
       "      <th>2236</th>\n",
       "      <td>10870</td>\n",
       "      <td>1967</td>\n",
       "      <td>Universitario</td>\n",
       "      <td>Casado</td>\n",
       "      <td>61223.0</td>\n",
       "      <td>0</td>\n",
       "      <td>1</td>\n",
       "      <td>13/6/2013</td>\n",
       "      <td>46</td>\n",
       "      <td>709</td>\n",
       "      <td>...</td>\n",
       "      <td>5</td>\n",
       "      <td>0</td>\n",
       "      <td>0</td>\n",
       "      <td>0</td>\n",
       "      <td>0</td>\n",
       "      <td>0</td>\n",
       "      <td>0</td>\n",
       "      <td>3</td>\n",
       "      <td>11</td>\n",
       "      <td>0</td>\n",
       "    </tr>\n",
       "    <tr>\n",
       "      <th>2237</th>\n",
       "      <td>4001</td>\n",
       "      <td>1946</td>\n",
       "      <td>Doctorado</td>\n",
       "      <td>En pareja</td>\n",
       "      <td>64014.0</td>\n",
       "      <td>2</td>\n",
       "      <td>1</td>\n",
       "      <td>10/6/2014</td>\n",
       "      <td>56</td>\n",
       "      <td>406</td>\n",
       "      <td>...</td>\n",
       "      <td>7</td>\n",
       "      <td>1</td>\n",
       "      <td>0</td>\n",
       "      <td>0</td>\n",
       "      <td>0</td>\n",
       "      <td>0</td>\n",
       "      <td>0</td>\n",
       "      <td>3</td>\n",
       "      <td>11</td>\n",
       "      <td>0</td>\n",
       "    </tr>\n",
       "    <tr>\n",
       "      <th>2238</th>\n",
       "      <td>7270</td>\n",
       "      <td>1981</td>\n",
       "      <td>Universitario</td>\n",
       "      <td>Divorciado</td>\n",
       "      <td>56981.0</td>\n",
       "      <td>0</td>\n",
       "      <td>0</td>\n",
       "      <td>25/1/2014</td>\n",
       "      <td>91</td>\n",
       "      <td>908</td>\n",
       "      <td>...</td>\n",
       "      <td>6</td>\n",
       "      <td>0</td>\n",
       "      <td>0</td>\n",
       "      <td>0</td>\n",
       "      <td>1</td>\n",
       "      <td>0</td>\n",
       "      <td>0</td>\n",
       "      <td>3</td>\n",
       "      <td>11</td>\n",
       "      <td>0</td>\n",
       "    </tr>\n",
       "    <tr>\n",
       "      <th>2239</th>\n",
       "      <td>8235</td>\n",
       "      <td>1956</td>\n",
       "      <td>Licenciado</td>\n",
       "      <td>En pareja</td>\n",
       "      <td>69245.0</td>\n",
       "      <td>0</td>\n",
       "      <td>1</td>\n",
       "      <td>24/1/2014</td>\n",
       "      <td>8</td>\n",
       "      <td>428</td>\n",
       "      <td>...</td>\n",
       "      <td>3</td>\n",
       "      <td>0</td>\n",
       "      <td>0</td>\n",
       "      <td>0</td>\n",
       "      <td>0</td>\n",
       "      <td>0</td>\n",
       "      <td>0</td>\n",
       "      <td>3</td>\n",
       "      <td>11</td>\n",
       "      <td>0</td>\n",
       "    </tr>\n",
       "    <tr>\n",
       "      <th>2240</th>\n",
       "      <td>9405</td>\n",
       "      <td>1954</td>\n",
       "      <td>Doctorado</td>\n",
       "      <td>Casado</td>\n",
       "      <td>52869.0</td>\n",
       "      <td>1</td>\n",
       "      <td>1</td>\n",
       "      <td>15/10/2012</td>\n",
       "      <td>40</td>\n",
       "      <td>84</td>\n",
       "      <td>...</td>\n",
       "      <td>7</td>\n",
       "      <td>0</td>\n",
       "      <td>0</td>\n",
       "      <td>0</td>\n",
       "      <td>0</td>\n",
       "      <td>0</td>\n",
       "      <td>0</td>\n",
       "      <td>3</td>\n",
       "      <td>11</td>\n",
       "      <td>1</td>\n",
       "    </tr>\n",
       "  </tbody>\n",
       "</table>\n",
       "<p>5 rows × 29 columns</p>\n",
       "</div>"
      ],
      "text/plain": [
       "      id_cliente  año_nac      educacion estado_civil  ingresos_usd  \\\n",
       "2236       10870     1967  Universitario       Casado       61223.0   \n",
       "2237        4001     1946      Doctorado    En pareja       64014.0   \n",
       "2238        7270     1981  Universitario   Divorciado       56981.0   \n",
       "2239        8235     1956     Licenciado    En pareja       69245.0   \n",
       "2240        9405     1954      Doctorado       Casado       52869.0   \n",
       "\n",
       "      cant_niños_casa  cant_adolecentes_casa fch_alta_cliente  \\\n",
       "2236                0                      1        13/6/2013   \n",
       "2237                2                      1        10/6/2014   \n",
       "2238                0                      0        25/1/2014   \n",
       "2239                0                      1        24/1/2014   \n",
       "2240                1                      1       15/10/2012   \n",
       "\n",
       "      dias_ult_compra  gasto_total_vinos  ...  cant_visitas_web_mes  \\\n",
       "2236               46                709  ...                     5   \n",
       "2237               56                406  ...                     7   \n",
       "2238               91                908  ...                     6   \n",
       "2239                8                428  ...                     3   \n",
       "2240               40                 84  ...                     7   \n",
       "\n",
       "      campaña_mkt_1  campaña_mkt_2  campaña_mkt_3  campaña_mkt_4  \\\n",
       "2236              0              0              0              0   \n",
       "2237              1              0              0              0   \n",
       "2238              0              0              0              1   \n",
       "2239              0              0              0              0   \n",
       "2240              0              0              0              0   \n",
       "\n",
       "      campaña_mkt_5  quejas  id_base_contacto  cod_retorno_esperado  \\\n",
       "2236              0       0                 3                    11   \n",
       "2237              0       0                 3                    11   \n",
       "2238              0       0                 3                    11   \n",
       "2239              0       0                 3                    11   \n",
       "2240              0       0                 3                    11   \n",
       "\n",
       "      respuestas  \n",
       "2236           0  \n",
       "2237           0  \n",
       "2238           0  \n",
       "2239           0  \n",
       "2240           1  \n",
       "\n",
       "[5 rows x 29 columns]"
      ]
     },
     "execution_count": 183,
     "metadata": {},
     "output_type": "execute_result"
    }
   ],
   "source": [
    "df.tail()"
   ]
  },
  {
   "cell_type": "markdown",
   "metadata": {},
   "source": [
    "💡 *Conclusión:* La carga inicial de los datos ha sido exitosa, se reporta que el origen de los datos cuenta con 29 atributos los cuales coinciden con las 29 columnas reportadas en el dataframe."
   ]
  },
  {
   "cell_type": "markdown",
   "metadata": {},
   "source": [
    "### ![Exploratory Data Analysis (EDA)](https://raw.githubusercontent.com/chetincho/proyecto_data_science_ii/main/img/exploratory_data_analysis_EDA.jpg)"
   ]
  },
  {
   "cell_type": "markdown",
   "metadata": {},
   "source": [
    "#### Información sobre la estructura de datos"
   ]
  },
  {
   "cell_type": "code",
   "execution_count": 184,
   "metadata": {},
   "outputs": [
    {
     "name": "stdout",
     "output_type": "stream",
     "text": [
      "<class 'pandas.core.frame.DataFrame'>\n",
      "RangeIndex: 2241 entries, 0 to 2240\n",
      "Data columns (total 29 columns):\n",
      " #   Column                      Non-Null Count  Dtype  \n",
      "---  ------                      --------------  -----  \n",
      " 0   id_cliente                  2241 non-null   int64  \n",
      " 1   año_nac                     2241 non-null   int64  \n",
      " 2   educacion                   2241 non-null   object \n",
      " 3   estado_civil                2241 non-null   object \n",
      " 4   ingresos_usd                2217 non-null   float64\n",
      " 5   cant_niños_casa             2241 non-null   int64  \n",
      " 6   cant_adolecentes_casa       2241 non-null   int64  \n",
      " 7   fch_alta_cliente            2241 non-null   object \n",
      " 8   dias_ult_compra             2241 non-null   int64  \n",
      " 9   gasto_total_vinos           2241 non-null   int64  \n",
      " 10  gasto_total_frutas          2241 non-null   int64  \n",
      " 11  gasto_total_carnes_rojas    2241 non-null   int64  \n",
      " 12  gasto_total_carnes_blancas  2241 non-null   int64  \n",
      " 13  gasto_total_dulces          2241 non-null   int64  \n",
      " 14  gasto_total_enlatados       2241 non-null   int64  \n",
      " 15  cant_compras_oferta         2241 non-null   int64  \n",
      " 16  cant_compras_web            2241 non-null   int64  \n",
      " 17  cant_compras_por_catalogo   2241 non-null   int64  \n",
      " 18  cant_compras_en_tienda      2241 non-null   int64  \n",
      " 19  cant_visitas_web_mes        2241 non-null   int64  \n",
      " 20  campaña_mkt_1               2241 non-null   int64  \n",
      " 21  campaña_mkt_2               2241 non-null   int64  \n",
      " 22  campaña_mkt_3               2241 non-null   int64  \n",
      " 23  campaña_mkt_4               2241 non-null   int64  \n",
      " 24  campaña_mkt_5               2241 non-null   int64  \n",
      " 25  quejas                      2241 non-null   int64  \n",
      " 26  id_base_contacto            2241 non-null   int64  \n",
      " 27  cod_retorno_esperado        2241 non-null   int64  \n",
      " 28  respuestas                  2241 non-null   int64  \n",
      "dtypes: float64(1), int64(25), object(3)\n",
      "memory usage: 507.9+ KB\n"
     ]
    }
   ],
   "source": [
    "df.info()"
   ]
  },
  {
   "cell_type": "markdown",
   "metadata": {},
   "source": [
    "💡 *Conclusión:* Se detectan los siguientes incidentes en los datos importados.\n",
    "- 24 registros con valores nulos sobre el atributo \"ingresos_usd\".\n",
    "- 7 desvíos entre el tipo de datos esperado y el importado para los siguientes atributos.\n",
    "\n",
    "\n",
    "| Columna                   |Tipo esperado | Tipo importado |\n",
    "|---------------------------|--------------|----------------|\n",
    "|fch_alta_cliente           |datetime      |object          |\n",
    "|gasto_total_vinos          |float64       |int64           |\n",
    "|gasto_total_frutas         |float64       |int64           |\n",
    "|gasto_total_carnes_rojas   |float64       |int64           |\n",
    "|gasto_total_carnes_blancas |float64       |int64           |\n",
    "|gasto_total_dulces         |float64       |int64           |\n",
    "|gasto_total_enlatados      |float64       |int64           |"
   ]
  },
  {
   "cell_type": "markdown",
   "metadata": {},
   "source": [
    "#### Resumen estadístico"
   ]
  },
  {
   "cell_type": "code",
   "execution_count": 185,
   "metadata": {},
   "outputs": [
    {
     "data": {
      "text/html": [
       "<div>\n",
       "<style scoped>\n",
       "    .dataframe tbody tr th:only-of-type {\n",
       "        vertical-align: middle;\n",
       "    }\n",
       "\n",
       "    .dataframe tbody tr th {\n",
       "        vertical-align: top;\n",
       "    }\n",
       "\n",
       "    .dataframe thead th {\n",
       "        text-align: right;\n",
       "    }\n",
       "</style>\n",
       "<table border=\"1\" class=\"dataframe\">\n",
       "  <thead>\n",
       "    <tr style=\"text-align: right;\">\n",
       "      <th></th>\n",
       "      <th>count</th>\n",
       "      <th>mean</th>\n",
       "      <th>std</th>\n",
       "      <th>min</th>\n",
       "      <th>25%</th>\n",
       "      <th>50%</th>\n",
       "      <th>75%</th>\n",
       "      <th>max</th>\n",
       "    </tr>\n",
       "  </thead>\n",
       "  <tbody>\n",
       "    <tr>\n",
       "      <th>ingresos_usd</th>\n",
       "      <td>2217.0</td>\n",
       "      <td>52252.116373</td>\n",
       "      <td>25168.438630</td>\n",
       "      <td>1730.0</td>\n",
       "      <td>35322.0</td>\n",
       "      <td>51390.0</td>\n",
       "      <td>68487.0</td>\n",
       "      <td>666666.0</td>\n",
       "    </tr>\n",
       "    <tr>\n",
       "      <th>cant_niños_casa</th>\n",
       "      <td>2241.0</td>\n",
       "      <td>0.443998</td>\n",
       "      <td>0.538360</td>\n",
       "      <td>0.0</td>\n",
       "      <td>0.0</td>\n",
       "      <td>0.0</td>\n",
       "      <td>1.0</td>\n",
       "      <td>2.0</td>\n",
       "    </tr>\n",
       "    <tr>\n",
       "      <th>cant_adolecentes_casa</th>\n",
       "      <td>2241.0</td>\n",
       "      <td>0.506024</td>\n",
       "      <td>0.544522</td>\n",
       "      <td>0.0</td>\n",
       "      <td>0.0</td>\n",
       "      <td>0.0</td>\n",
       "      <td>1.0</td>\n",
       "      <td>2.0</td>\n",
       "    </tr>\n",
       "    <tr>\n",
       "      <th>dias_ult_compra</th>\n",
       "      <td>2241.0</td>\n",
       "      <td>49.124052</td>\n",
       "      <td>28.964322</td>\n",
       "      <td>0.0</td>\n",
       "      <td>24.0</td>\n",
       "      <td>49.0</td>\n",
       "      <td>74.0</td>\n",
       "      <td>99.0</td>\n",
       "    </tr>\n",
       "    <tr>\n",
       "      <th>gasto_total_vinos</th>\n",
       "      <td>2241.0</td>\n",
       "      <td>303.886658</td>\n",
       "      <td>336.530264</td>\n",
       "      <td>0.0</td>\n",
       "      <td>24.0</td>\n",
       "      <td>174.0</td>\n",
       "      <td>504.0</td>\n",
       "      <td>1493.0</td>\n",
       "    </tr>\n",
       "    <tr>\n",
       "      <th>gasto_total_frutas</th>\n",
       "      <td>2241.0</td>\n",
       "      <td>26.317715</td>\n",
       "      <td>39.771309</td>\n",
       "      <td>0.0</td>\n",
       "      <td>1.0</td>\n",
       "      <td>8.0</td>\n",
       "      <td>33.0</td>\n",
       "      <td>199.0</td>\n",
       "    </tr>\n",
       "    <tr>\n",
       "      <th>gasto_total_carnes_rojas</th>\n",
       "      <td>2241.0</td>\n",
       "      <td>167.089692</td>\n",
       "      <td>225.761856</td>\n",
       "      <td>0.0</td>\n",
       "      <td>16.0</td>\n",
       "      <td>67.0</td>\n",
       "      <td>232.0</td>\n",
       "      <td>1725.0</td>\n",
       "    </tr>\n",
       "    <tr>\n",
       "      <th>gasto_total_carnes_blancas</th>\n",
       "      <td>2241.0</td>\n",
       "      <td>37.609103</td>\n",
       "      <td>54.760173</td>\n",
       "      <td>0.0</td>\n",
       "      <td>3.0</td>\n",
       "      <td>12.0</td>\n",
       "      <td>50.0</td>\n",
       "      <td>259.0</td>\n",
       "    </tr>\n",
       "    <tr>\n",
       "      <th>gasto_total_dulces</th>\n",
       "      <td>2241.0</td>\n",
       "      <td>27.100848</td>\n",
       "      <td>41.310266</td>\n",
       "      <td>0.0</td>\n",
       "      <td>1.0</td>\n",
       "      <td>8.0</td>\n",
       "      <td>33.0</td>\n",
       "      <td>263.0</td>\n",
       "    </tr>\n",
       "    <tr>\n",
       "      <th>gasto_total_enlatados</th>\n",
       "      <td>2241.0</td>\n",
       "      <td>44.015618</td>\n",
       "      <td>52.156634</td>\n",
       "      <td>0.0</td>\n",
       "      <td>9.0</td>\n",
       "      <td>24.0</td>\n",
       "      <td>56.0</td>\n",
       "      <td>362.0</td>\n",
       "    </tr>\n",
       "    <tr>\n",
       "      <th>cant_compras_oferta</th>\n",
       "      <td>2241.0</td>\n",
       "      <td>2.324409</td>\n",
       "      <td>1.932009</td>\n",
       "      <td>0.0</td>\n",
       "      <td>1.0</td>\n",
       "      <td>2.0</td>\n",
       "      <td>3.0</td>\n",
       "      <td>15.0</td>\n",
       "    </tr>\n",
       "    <tr>\n",
       "      <th>cant_compras_web</th>\n",
       "      <td>2241.0</td>\n",
       "      <td>4.084337</td>\n",
       "      <td>2.778188</td>\n",
       "      <td>0.0</td>\n",
       "      <td>2.0</td>\n",
       "      <td>4.0</td>\n",
       "      <td>6.0</td>\n",
       "      <td>27.0</td>\n",
       "    </tr>\n",
       "    <tr>\n",
       "      <th>cant_compras_por_catalogo</th>\n",
       "      <td>2241.0</td>\n",
       "      <td>2.662651</td>\n",
       "      <td>2.922585</td>\n",
       "      <td>0.0</td>\n",
       "      <td>0.0</td>\n",
       "      <td>2.0</td>\n",
       "      <td>4.0</td>\n",
       "      <td>28.0</td>\n",
       "    </tr>\n",
       "    <tr>\n",
       "      <th>cant_compras_en_tienda</th>\n",
       "      <td>2241.0</td>\n",
       "      <td>5.791165</td>\n",
       "      <td>3.250568</td>\n",
       "      <td>0.0</td>\n",
       "      <td>3.0</td>\n",
       "      <td>5.0</td>\n",
       "      <td>8.0</td>\n",
       "      <td>13.0</td>\n",
       "    </tr>\n",
       "    <tr>\n",
       "      <th>cant_visitas_web_mes</th>\n",
       "      <td>2241.0</td>\n",
       "      <td>5.315038</td>\n",
       "      <td>2.427115</td>\n",
       "      <td>0.0</td>\n",
       "      <td>3.0</td>\n",
       "      <td>6.0</td>\n",
       "      <td>7.0</td>\n",
       "      <td>20.0</td>\n",
       "    </tr>\n",
       "  </tbody>\n",
       "</table>\n",
       "</div>"
      ],
      "text/plain": [
       "                             count          mean           std     min  \\\n",
       "ingresos_usd                2217.0  52252.116373  25168.438630  1730.0   \n",
       "cant_niños_casa             2241.0      0.443998      0.538360     0.0   \n",
       "cant_adolecentes_casa       2241.0      0.506024      0.544522     0.0   \n",
       "dias_ult_compra             2241.0     49.124052     28.964322     0.0   \n",
       "gasto_total_vinos           2241.0    303.886658    336.530264     0.0   \n",
       "gasto_total_frutas          2241.0     26.317715     39.771309     0.0   \n",
       "gasto_total_carnes_rojas    2241.0    167.089692    225.761856     0.0   \n",
       "gasto_total_carnes_blancas  2241.0     37.609103     54.760173     0.0   \n",
       "gasto_total_dulces          2241.0     27.100848     41.310266     0.0   \n",
       "gasto_total_enlatados       2241.0     44.015618     52.156634     0.0   \n",
       "cant_compras_oferta         2241.0      2.324409      1.932009     0.0   \n",
       "cant_compras_web            2241.0      4.084337      2.778188     0.0   \n",
       "cant_compras_por_catalogo   2241.0      2.662651      2.922585     0.0   \n",
       "cant_compras_en_tienda      2241.0      5.791165      3.250568     0.0   \n",
       "cant_visitas_web_mes        2241.0      5.315038      2.427115     0.0   \n",
       "\n",
       "                                25%      50%      75%       max  \n",
       "ingresos_usd                35322.0  51390.0  68487.0  666666.0  \n",
       "cant_niños_casa                 0.0      0.0      1.0       2.0  \n",
       "cant_adolecentes_casa           0.0      0.0      1.0       2.0  \n",
       "dias_ult_compra                24.0     49.0     74.0      99.0  \n",
       "gasto_total_vinos              24.0    174.0    504.0    1493.0  \n",
       "gasto_total_frutas              1.0      8.0     33.0     199.0  \n",
       "gasto_total_carnes_rojas       16.0     67.0    232.0    1725.0  \n",
       "gasto_total_carnes_blancas      3.0     12.0     50.0     259.0  \n",
       "gasto_total_dulces              1.0      8.0     33.0     263.0  \n",
       "gasto_total_enlatados           9.0     24.0     56.0     362.0  \n",
       "cant_compras_oferta             1.0      2.0      3.0      15.0  \n",
       "cant_compras_web                2.0      4.0      6.0      27.0  \n",
       "cant_compras_por_catalogo       0.0      2.0      4.0      28.0  \n",
       "cant_compras_en_tienda          3.0      5.0      8.0      13.0  \n",
       "cant_visitas_web_mes            3.0      6.0      7.0      20.0  "
      ]
     },
     "execution_count": 185,
     "metadata": {},
     "output_type": "execute_result"
    }
   ],
   "source": [
    "columnas_a_describir = ['ingresos_usd',                 'cant_niños_casa',                  'cant_adolecentes_casa',\n",
    "                        'dias_ult_compra',              'gasto_total_vinos',                'gasto_total_frutas',\n",
    "                        'gasto_total_carnes_rojas',     'gasto_total_carnes_blancas',       'gasto_total_dulces',\n",
    "                        'gasto_total_enlatados',        'cant_compras_oferta',              'cant_compras_web',\n",
    "                        'cant_compras_por_catalogo',    'cant_compras_en_tienda',           'cant_visitas_web_mes']\n",
    "\n",
    "df[columnas_a_describir].describe().transpose()"
   ]
  },
  {
   "cell_type": "markdown",
   "metadata": {},
   "source": [
    "💡 *Conclusión:* En el presente resumen se detecta la existencia de posibles outlier sobre el atributo \"ingresos_usd\"."
   ]
  },
  {
   "cell_type": "markdown",
   "metadata": {},
   "source": [
    "#### Comprobación de valores nulos"
   ]
  },
  {
   "cell_type": "code",
   "execution_count": 186,
   "metadata": {},
   "outputs": [
    {
     "data": {
      "text/plain": [
       "id_cliente                     0\n",
       "año_nac                        0\n",
       "educacion                      0\n",
       "estado_civil                   0\n",
       "ingresos_usd                  24\n",
       "cant_niños_casa                0\n",
       "cant_adolecentes_casa          0\n",
       "fch_alta_cliente               0\n",
       "dias_ult_compra                0\n",
       "gasto_total_vinos              0\n",
       "gasto_total_frutas             0\n",
       "gasto_total_carnes_rojas       0\n",
       "gasto_total_carnes_blancas     0\n",
       "gasto_total_dulces             0\n",
       "gasto_total_enlatados          0\n",
       "cant_compras_oferta            0\n",
       "cant_compras_web               0\n",
       "cant_compras_por_catalogo      0\n",
       "cant_compras_en_tienda         0\n",
       "cant_visitas_web_mes           0\n",
       "campaña_mkt_1                  0\n",
       "campaña_mkt_2                  0\n",
       "campaña_mkt_3                  0\n",
       "campaña_mkt_4                  0\n",
       "campaña_mkt_5                  0\n",
       "quejas                         0\n",
       "id_base_contacto               0\n",
       "cod_retorno_esperado           0\n",
       "respuestas                     0\n",
       "dtype: int64"
      ]
     },
     "execution_count": 186,
     "metadata": {},
     "output_type": "execute_result"
    }
   ],
   "source": [
    "df.isnull().sum()"
   ]
  },
  {
   "cell_type": "code",
   "execution_count": 187,
   "metadata": {},
   "outputs": [
    {
     "data": {
      "text/plain": [
       "id_cliente                    0.00000\n",
       "año_nac                       0.00000\n",
       "educacion                     0.00000\n",
       "estado_civil                  0.00000\n",
       "ingresos_usd                  1.07095\n",
       "cant_niños_casa               0.00000\n",
       "cant_adolecentes_casa         0.00000\n",
       "fch_alta_cliente              0.00000\n",
       "dias_ult_compra               0.00000\n",
       "gasto_total_vinos             0.00000\n",
       "gasto_total_frutas            0.00000\n",
       "gasto_total_carnes_rojas      0.00000\n",
       "gasto_total_carnes_blancas    0.00000\n",
       "gasto_total_dulces            0.00000\n",
       "gasto_total_enlatados         0.00000\n",
       "cant_compras_oferta           0.00000\n",
       "cant_compras_web              0.00000\n",
       "cant_compras_por_catalogo     0.00000\n",
       "cant_compras_en_tienda        0.00000\n",
       "cant_visitas_web_mes          0.00000\n",
       "campaña_mkt_1                 0.00000\n",
       "campaña_mkt_2                 0.00000\n",
       "campaña_mkt_3                 0.00000\n",
       "campaña_mkt_4                 0.00000\n",
       "campaña_mkt_5                 0.00000\n",
       "quejas                        0.00000\n",
       "id_base_contacto              0.00000\n",
       "cod_retorno_esperado          0.00000\n",
       "respuestas                    0.00000\n",
       "dtype: float64"
      ]
     },
     "execution_count": 187,
     "metadata": {},
     "output_type": "execute_result"
    }
   ],
   "source": [
    "df.isnull().mean()*100"
   ]
  },
  {
   "cell_type": "markdown",
   "metadata": {},
   "source": [
    "💡 *Conclusión:* Se comprueba que la estructura de datos cuenta únicamente con 24 registros con valores nulos correspondientes al atributo “ingresos_usd”, esto representa el 1.07% del total de registros de dicho atributo."
   ]
  },
  {
   "cell_type": "markdown",
   "metadata": {},
   "source": [
    "#### Comprobación de registros duplicados"
   ]
  },
  {
   "cell_type": "code",
   "execution_count": 188,
   "metadata": {},
   "outputs": [
    {
     "name": "stdout",
     "output_type": "stream",
     "text": [
      "Total de registros duplicados: 1\n"
     ]
    }
   ],
   "source": [
    "print(f'Total de registros duplicados: {df.duplicated().sum()}')"
   ]
  },
  {
   "cell_type": "markdown",
   "metadata": {},
   "source": [
    "💡 *Conclusión:* Se comprueba que el dataset cuenta con un registro duplicado."
   ]
  },
  {
   "cell_type": "markdown",
   "metadata": {},
   "source": [
    "#### Visualización de la distribución de las variables"
   ]
  },
  {
   "cell_type": "markdown",
   "metadata": {},
   "source": [
    "A continuación se diagrama una serie de blox plots con el objetivo de tener una visión mas clara de la distribución de los datos en términos de cuartiles y detectar outliers."
   ]
  },
  {
   "cell_type": "code",
   "execution_count": 189,
   "metadata": {},
   "outputs": [
    {
     "data": {
      "image/png": "[encoded data removed]",
      "text/plain": [
       "<Figure size 1000x300 with 1 Axes>"
      ]
     },
     "metadata": {},
     "output_type": "display_data"
    }
   ],
   "source": [
    "plt.figure(figsize=(10, 3))\n",
    "df.boxplot(column='ingresos_usd')\n",
    "plt.title('Ingresos en Dólares (ingresos_usd)')\n",
    "plt.xticks(rotation=0)\n",
    "plt.show()"
   ]
  },
  {
   "cell_type": "markdown",
   "metadata": {},
   "source": [
    "💡 *Conclusión:* La gráfica muestra la presencia de outliers."
   ]
  },
  {
   "cell_type": "code",
   "execution_count": 190,
   "metadata": {},
   "outputs": [
    {
     "data": {
      "image/png": "[encoded data removed]",
      "text/plain": [
       "<Figure size 1000x300 with 1 Axes>"
      ]
     },
     "metadata": {},
     "output_type": "display_data"
    }
   ],
   "source": [
    "plt.figure(figsize=(10, 3))\n",
    "df.boxplot(column='cant_niños_casa')\n",
    "plt.title('Cantidad de niños en casa (cant_niños_casa)')\n",
    "plt.xticks(rotation=0)\n",
    "plt.show()"
   ]
  },
  {
   "cell_type": "code",
   "execution_count": 191,
   "metadata": {},
   "outputs": [
    {
     "data": {
      "image/png": "[encoded data removed]",
      "text/plain": [
       "<Figure size 1000x300 with 1 Axes>"
      ]
     },
     "metadata": {},
     "output_type": "display_data"
    }
   ],
   "source": [
    "plt.figure(figsize=(10, 3))\n",
    "df.boxplot(column='cant_adolecentes_casa')\n",
    "plt.title('Cantidad de adolecentes en casa (cant_adolecentes_casa)')\n",
    "plt.xticks(rotation=0)\n",
    "plt.show()"
   ]
  },
  {
   "cell_type": "code",
   "execution_count": 192,
   "metadata": {},
   "outputs": [
    {
     "data": {
      "image/png": "[encoded data removed]",
      "text/plain": [
       "<Figure size 1000x300 with 1 Axes>"
      ]
     },
     "metadata": {},
     "output_type": "display_data"
    }
   ],
   "source": [
    "plt.figure(figsize=(10, 3))\n",
    "df.boxplot(column='dias_ult_compra')\n",
    "plt.title('Dias pasados desde la última compra (dias_ult_compra)')\n",
    "plt.xticks(rotation=0)\n",
    "plt.show()"
   ]
  },
  {
   "cell_type": "code",
   "execution_count": 193,
   "metadata": {},
   "outputs": [
    {
     "data": {
      "image/png": "[encoded data removed]",
      "text/plain": [
       "<Figure size 1000x300 with 1 Axes>"
      ]
     },
     "metadata": {},
     "output_type": "display_data"
    }
   ],
   "source": [
    "plt.figure(figsize=(10, 3))\n",
    "df.boxplot(column='gasto_total_vinos')\n",
    "plt.title('Total gastado en el rubro vinos (gasto_total_vinos)')\n",
    "plt.xticks(rotation=0)\n",
    "plt.show()"
   ]
  },
  {
   "cell_type": "code",
   "execution_count": 194,
   "metadata": {},
   "outputs": [
    {
     "data": {
      "image/png": "[encoded data removed]",
      "text/plain": [
       "<Figure size 1000x300 with 1 Axes>"
      ]
     },
     "metadata": {},
     "output_type": "display_data"
    }
   ],
   "source": [
    "plt.figure(figsize=(10, 3))\n",
    "df.boxplot(column='gasto_total_frutas')\n",
    "plt.title('Total gastado en el rubro frutas (gasto_total_frutas)')\n",
    "plt.xticks(rotation=0)\n",
    "plt.show()"
   ]
  },
  {
   "cell_type": "code",
   "execution_count": 195,
   "metadata": {},
   "outputs": [
    {
     "data": {
      "image/png": "[encoded data removed]",
      "text/plain": [
       "<Figure size 1000x300 with 1 Axes>"
      ]
     },
     "metadata": {},
     "output_type": "display_data"
    }
   ],
   "source": [
    "plt.figure(figsize=(10, 3))\n",
    "df.boxplot(column='gasto_total_carnes_rojas')\n",
    "plt.title('Total gastado en el rubro carnes rojas (gasto_total_carnes_rojas)')\n",
    "plt.xticks(rotation=0)\n",
    "plt.show()"
   ]
  },
  {
   "cell_type": "code",
   "execution_count": 196,
   "metadata": {},
   "outputs": [
    {
     "data": {
      "image/png": "[encoded data removed]",
      "text/plain": [
       "<Figure size 1000x300 with 1 Axes>"
      ]
     },
     "metadata": {},
     "output_type": "display_data"
    }
   ],
   "source": [
    "plt.figure(figsize=(10, 3))\n",
    "df.boxplot(column='gasto_total_carnes_blancas')\n",
    "plt.title('Total gastado en el rubro carnes blancas (gasto_total_carnes_blancas)')\n",
    "plt.xticks(rotation=0)\n",
    "plt.show()"
   ]
  },
  {
   "cell_type": "code",
   "execution_count": 197,
   "metadata": {},
   "outputs": [
    {
     "data": {
      "image/png": "[encoded data removed]",
      "text/plain": [
       "<Figure size 1000x300 with 1 Axes>"
      ]
     },
     "metadata": {},
     "output_type": "display_data"
    }
   ],
   "source": [
    "plt.figure(figsize=(10, 3))\n",
    "df.boxplot(column='gasto_total_dulces')\n",
    "plt.title('Total gastado en el rubro dulces (gasto_total_dulces)')\n",
    "plt.xticks(rotation=0)\n",
    "plt.show()"
   ]
  },
  {
   "cell_type": "code",
   "execution_count": 198,
   "metadata": {},
   "outputs": [
    {
     "data": {
      "image/png": "[encoded data removed]",
      "text/plain": [
       "<Figure size 1000x300 with 1 Axes>"
      ]
     },
     "metadata": {},
     "output_type": "display_data"
    }
   ],
   "source": [
    "plt.figure(figsize=(10, 3))\n",
    "df.boxplot(column='gasto_total_enlatados')\n",
    "plt.title('Total gastado en el rubro enlatados (gasto_total_enlatados)')\n",
    "plt.xticks(rotation=0)\n",
    "plt.show()"
   ]
  },
  {
   "cell_type": "code",
   "execution_count": 199,
   "metadata": {},
   "outputs": [
    {
     "data": {
      "image/png": "[encoded data removed]",
      "text/plain": [
       "<Figure size 1000x300 with 1 Axes>"
      ]
     },
     "metadata": {},
     "output_type": "display_data"
    }
   ],
   "source": [
    "plt.figure(figsize=(10, 3))\n",
    "df.boxplot(column='cant_compras_oferta')\n",
    "plt.title('Cantidad de compras en oferta (cant_compras_oferta)')\n",
    "plt.xticks(rotation=0)\n",
    "plt.show()"
   ]
  },
  {
   "cell_type": "code",
   "execution_count": 200,
   "metadata": {},
   "outputs": [
    {
     "data": {
      "image/png": "[encoded data removed]",
      "text/plain": [
       "<Figure size 1000x300 with 1 Axes>"
      ]
     },
     "metadata": {},
     "output_type": "display_data"
    }
   ],
   "source": [
    "plt.figure(figsize=(10, 3))\n",
    "df.boxplot(column='cant_compras_web')\n",
    "plt.title('Cantidad de compras web (cant_compras_web)')\n",
    "plt.xticks(rotation=0)\n",
    "plt.show()"
   ]
  },
  {
   "cell_type": "code",
   "execution_count": 201,
   "metadata": {},
   "outputs": [
    {
     "data": {
      "image/png": "[encoded data removed]",
      "text/plain": [
       "<Figure size 1000x300 with 1 Axes>"
      ]
     },
     "metadata": {},
     "output_type": "display_data"
    }
   ],
   "source": [
    "plt.figure(figsize=(10, 3))\n",
    "df.boxplot(column='cant_compras_por_catalogo')\n",
    "plt.title('Cantidad de compras por catálogo (cant_compras_por_catalogo)')\n",
    "plt.xticks(rotation=0)\n",
    "plt.show()"
   ]
  },
  {
   "cell_type": "code",
   "execution_count": 202,
   "metadata": {},
   "outputs": [
    {
     "data": {
      "image/png": "[encoded data removed]",
      "text/plain": [
       "<Figure size 1000x300 with 1 Axes>"
      ]
     },
     "metadata": {},
     "output_type": "display_data"
    }
   ],
   "source": [
    "plt.figure(figsize=(10, 3))\n",
    "df.boxplot(column='cant_compras_en_tienda')\n",
    "plt.title('Cantidad de compras en tieda (cant_compras_en_tienda)')\n",
    "plt.xticks(rotation=0)\n",
    "plt.show()"
   ]
  },
  {
   "cell_type": "code",
   "execution_count": 203,
   "metadata": {},
   "outputs": [
    {
     "data": {
      "image/png": "[encoded data removed]",
      "text/plain": [
       "<Figure size 1000x300 with 1 Axes>"
      ]
     },
     "metadata": {},
     "output_type": "display_data"
    }
   ],
   "source": [
    "plt.figure(figsize=(10, 3))\n",
    "df.boxplot(column='cant_visitas_web_mes')\n",
    "plt.title('Cantidad de visitas web (cant_visitas_web_mes)')\n",
    "plt.xticks(rotation=0)\n",
    "plt.show()"
   ]
  },
  {
   "cell_type": "markdown",
   "metadata": {},
   "source": [
    "### ![Data Wrangling](https://raw.githubusercontent.com/chetincho/proyecto_data_science_ii/main/img/data_wrangling.jpg)"
   ]
  },
  {
   "cell_type": "markdown",
   "metadata": {},
   "source": [
    "💡 *Introducción:* Durante la etapa de Exploratory Data Analysis (EDA) además del descubrimiento inicial de la data provista por la empresa se detectó lo siguiente:\n",
    "\n",
    "* 7 desvíos entre los tipos de datos esperados y los importados para los atributos: fch_alta_cliente, gasto_total_vinos, gasto_total_frutas, gasto_total_carnes_rojas, gasto_total_carnes_blancas, gasto_total_dulces, gasto_total_enlatados.\n",
    "* 24 registros con valores nulos los cuales corresponden al 1.07% del total de registros para el atributo “ingresos_usd”.\n",
    "* Se detectaron outliers sobre el atributo “ingresos_usd” para el valor “666666.0”\n",
    "* Se detectaron valores duplicados.\n",
    "* Se detectó la necesidad de contar con una columna la cual consolide el total gastado por cada cliente."
   ]
  },
  {
   "cell_type": "markdown",
   "metadata": {},
   "source": [
    "#### La conversión de tipos de datos\n",
    "Procedemos a estandarizar el formato de los datos."
   ]
  },
  {
   "cell_type": "markdown",
   "metadata": {},
   "source": [
    "Corrección de la columna \"fch_alta_cliente\" de object -> datetime"
   ]
  },
  {
   "cell_type": "code",
   "execution_count": 166,
   "metadata": {},
   "outputs": [],
   "source": [
    "df['fch_alta_cliente'] = pd.to_datetime(df['fch_alta_cliente'], format=\"%d/%m/%Y\")"
   ]
  },
  {
   "cell_type": "markdown",
   "metadata": {},
   "source": [
    "Verificamos si todos los registros pudieron convertirse correctamente sin generar valores NaT (Not a Time)"
   ]
  },
  {
   "cell_type": "code",
   "execution_count": 167,
   "metadata": {},
   "outputs": [
    {
     "name": "stdout",
     "output_type": "stream",
     "text": [
      "El total de registros con fecha erronea es: 0\n"
     ]
    }
   ],
   "source": [
    "total_nat = df['fch_alta_cliente'].isna().sum()\n",
    "print(f\"El total de registros con fecha erronea es: {total_nat}\")"
   ]
  },
  {
   "cell_type": "markdown",
   "metadata": {},
   "source": [
    "Corrección de la columna \"gasto_total_vinos\" de          int64 -> float64<br>\n",
    "Corrección de la columna \"gasto_total_frutas\" de         int64 -> float64<br>\n",
    "Corrección de la columna \"gasto_total_carnes_rojas\" de   int64 -> float64<br>\n",
    "Corrección de la columna \"gasto_total_carnes_blancas\" de int64 -> float64<br>\n",
    "Corrección de la columna \"gasto_total_dulces\" de         int64 -> float64<br>\n",
    "Corrección de la columna \"gasto_total_enlatados\" de      int64 -> float64<br>"
   ]
  },
  {
   "cell_type": "code",
   "execution_count": 168,
   "metadata": {},
   "outputs": [],
   "source": [
    "df['gasto_total_vinos'] = df['gasto_total_vinos'].astype(float)\n",
    "df['gasto_total_frutas'] = df['gasto_total_frutas'].astype(float)\n",
    "df['gasto_total_carnes_rojas'] = df['gasto_total_carnes_rojas'].astype(float)\n",
    "df['gasto_total_carnes_blancas'] = df['gasto_total_carnes_blancas'].astype(float)\n",
    "df['gasto_total_dulces'] = df['gasto_total_dulces'].astype(float)\n",
    "df['gasto_total_enlatados'] = df['gasto_total_enlatados'].astype(float)"
   ]
  },
  {
   "cell_type": "code",
   "execution_count": 169,
   "metadata": {},
   "outputs": [
    {
     "name": "stdout",
     "output_type": "stream",
     "text": [
      "<class 'pandas.core.frame.DataFrame'>\n",
      "RangeIndex: 2241 entries, 0 to 2240\n",
      "Data columns (total 29 columns):\n",
      " #   Column                      Non-Null Count  Dtype         \n",
      "---  ------                      --------------  -----         \n",
      " 0   id_cliente                  2241 non-null   int64         \n",
      " 1   año_nac                     2241 non-null   int64         \n",
      " 2   educacion                   2241 non-null   object        \n",
      " 3   estado_civil                2241 non-null   object        \n",
      " 4   ingresos_usd                2217 non-null   float64       \n",
      " 5   cant_niños_casa             2241 non-null   int64         \n",
      " 6   cant_adolecentes_casa       2241 non-null   int64         \n",
      " 7   fch_alta_cliente            2241 non-null   datetime64[ns]\n",
      " 8   dias_ult_compra             2241 non-null   int64         \n",
      " 9   gasto_total_vinos           2241 non-null   float64       \n",
      " 10  gasto_total_frutas          2241 non-null   float64       \n",
      " 11  gasto_total_carnes_rojas    2241 non-null   float64       \n",
      " 12  gasto_total_carnes_blancas  2241 non-null   float64       \n",
      " 13  gasto_total_dulces          2241 non-null   float64       \n",
      " 14  gasto_total_enlatados       2241 non-null   float64       \n",
      " 15  cant_compras_oferta         2241 non-null   int64         \n",
      " 16  cant_compras_web            2241 non-null   int64         \n",
      " 17  cant_compras_por_catalogo   2241 non-null   int64         \n",
      " 18  cant_compras_en_tienda      2241 non-null   int64         \n",
      " 19  cant_visitas_web_mes        2241 non-null   int64         \n",
      " 20  campaña_mkt_1               2241 non-null   int64         \n",
      " 21  campaña_mkt_2               2241 non-null   int64         \n",
      " 22  campaña_mkt_3               2241 non-null   int64         \n",
      " 23  campaña_mkt_4               2241 non-null   int64         \n",
      " 24  campaña_mkt_5               2241 non-null   int64         \n",
      " 25  quejas                      2241 non-null   int64         \n",
      " 26  id_base_contacto            2241 non-null   int64         \n",
      " 27  cod_retorno_esperado        2241 non-null   int64         \n",
      " 28  respuestas                  2241 non-null   int64         \n",
      "dtypes: datetime64[ns](1), float64(7), int64(19), object(2)\n",
      "memory usage: 507.9+ KB\n"
     ]
    }
   ],
   "source": [
    "df.info()"
   ]
  },
  {
   "cell_type": "markdown",
   "metadata": {},
   "source": [
    "💡 *Conclusión:* Se corrobora una conversión exitosa de los campos con errores de tipado."
   ]
  },
  {
   "cell_type": "markdown",
   "metadata": {},
   "source": [
    "#### Limpieza de valores nulos\n",
    "Procedemos con la eliminacion de 24 registros con valores nulos para el atributo “ingresos_usd”."
   ]
  },
  {
   "cell_type": "code",
   "execution_count": 170,
   "metadata": {},
   "outputs": [],
   "source": [
    "df = df.dropna(subset=['ingresos_usd'])"
   ]
  },
  {
   "cell_type": "code",
   "execution_count": 171,
   "metadata": {},
   "outputs": [
    {
     "name": "stdout",
     "output_type": "stream",
     "text": [
      "<class 'pandas.core.frame.DataFrame'>\n",
      "Index: 2217 entries, 0 to 2240\n",
      "Data columns (total 29 columns):\n",
      " #   Column                      Non-Null Count  Dtype         \n",
      "---  ------                      --------------  -----         \n",
      " 0   id_cliente                  2217 non-null   int64         \n",
      " 1   año_nac                     2217 non-null   int64         \n",
      " 2   educacion                   2217 non-null   object        \n",
      " 3   estado_civil                2217 non-null   object        \n",
      " 4   ingresos_usd                2217 non-null   float64       \n",
      " 5   cant_niños_casa             2217 non-null   int64         \n",
      " 6   cant_adolecentes_casa       2217 non-null   int64         \n",
      " 7   fch_alta_cliente            2217 non-null   datetime64[ns]\n",
      " 8   dias_ult_compra             2217 non-null   int64         \n",
      " 9   gasto_total_vinos           2217 non-null   float64       \n",
      " 10  gasto_total_frutas          2217 non-null   float64       \n",
      " 11  gasto_total_carnes_rojas    2217 non-null   float64       \n",
      " 12  gasto_total_carnes_blancas  2217 non-null   float64       \n",
      " 13  gasto_total_dulces          2217 non-null   float64       \n",
      " 14  gasto_total_enlatados       2217 non-null   float64       \n",
      " 15  cant_compras_oferta         2217 non-null   int64         \n",
      " 16  cant_compras_web            2217 non-null   int64         \n",
      " 17  cant_compras_por_catalogo   2217 non-null   int64         \n",
      " 18  cant_compras_en_tienda      2217 non-null   int64         \n",
      " 19  cant_visitas_web_mes        2217 non-null   int64         \n",
      " 20  campaña_mkt_1               2217 non-null   int64         \n",
      " 21  campaña_mkt_2               2217 non-null   int64         \n",
      " 22  campaña_mkt_3               2217 non-null   int64         \n",
      " 23  campaña_mkt_4               2217 non-null   int64         \n",
      " 24  campaña_mkt_5               2217 non-null   int64         \n",
      " 25  quejas                      2217 non-null   int64         \n",
      " 26  id_base_contacto            2217 non-null   int64         \n",
      " 27  cod_retorno_esperado        2217 non-null   int64         \n",
      " 28  respuestas                  2217 non-null   int64         \n",
      "dtypes: datetime64[ns](1), float64(7), int64(19), object(2)\n",
      "memory usage: 519.6+ KB\n"
     ]
    }
   ],
   "source": [
    "df.info()"
   ]
  },
  {
   "cell_type": "markdown",
   "metadata": {},
   "source": [
    "#### Eliminación de valores atípicos (outliers)\n",
    "Procedemos con la eliminacion de aquellos registros para el atributo “ingresos_usd” cuyo valor sea mayor a 600000."
   ]
  },
  {
   "cell_type": "code",
   "execution_count": 172,
   "metadata": {},
   "outputs": [],
   "source": [
    "df = df.drop(df[df['ingresos_usd'] > 600000].index)"
   ]
  },
  {
   "cell_type": "code",
   "execution_count": 173,
   "metadata": {},
   "outputs": [
    {
     "name": "stdout",
     "output_type": "stream",
     "text": [
      "<class 'pandas.core.frame.DataFrame'>\n",
      "Index: 2216 entries, 0 to 2240\n",
      "Data columns (total 29 columns):\n",
      " #   Column                      Non-Null Count  Dtype         \n",
      "---  ------                      --------------  -----         \n",
      " 0   id_cliente                  2216 non-null   int64         \n",
      " 1   año_nac                     2216 non-null   int64         \n",
      " 2   educacion                   2216 non-null   object        \n",
      " 3   estado_civil                2216 non-null   object        \n",
      " 4   ingresos_usd                2216 non-null   float64       \n",
      " 5   cant_niños_casa             2216 non-null   int64         \n",
      " 6   cant_adolecentes_casa       2216 non-null   int64         \n",
      " 7   fch_alta_cliente            2216 non-null   datetime64[ns]\n",
      " 8   dias_ult_compra             2216 non-null   int64         \n",
      " 9   gasto_total_vinos           2216 non-null   float64       \n",
      " 10  gasto_total_frutas          2216 non-null   float64       \n",
      " 11  gasto_total_carnes_rojas    2216 non-null   float64       \n",
      " 12  gasto_total_carnes_blancas  2216 non-null   float64       \n",
      " 13  gasto_total_dulces          2216 non-null   float64       \n",
      " 14  gasto_total_enlatados       2216 non-null   float64       \n",
      " 15  cant_compras_oferta         2216 non-null   int64         \n",
      " 16  cant_compras_web            2216 non-null   int64         \n",
      " 17  cant_compras_por_catalogo   2216 non-null   int64         \n",
      " 18  cant_compras_en_tienda      2216 non-null   int64         \n",
      " 19  cant_visitas_web_mes        2216 non-null   int64         \n",
      " 20  campaña_mkt_1               2216 non-null   int64         \n",
      " 21  campaña_mkt_2               2216 non-null   int64         \n",
      " 22  campaña_mkt_3               2216 non-null   int64         \n",
      " 23  campaña_mkt_4               2216 non-null   int64         \n",
      " 24  campaña_mkt_5               2216 non-null   int64         \n",
      " 25  quejas                      2216 non-null   int64         \n",
      " 26  id_base_contacto            2216 non-null   int64         \n",
      " 27  cod_retorno_esperado        2216 non-null   int64         \n",
      " 28  respuestas                  2216 non-null   int64         \n",
      "dtypes: datetime64[ns](1), float64(7), int64(19), object(2)\n",
      "memory usage: 519.4+ KB\n"
     ]
    }
   ],
   "source": [
    "df.info()"
   ]
  },
  {
   "cell_type": "markdown",
   "metadata": {},
   "source": [
    "#### Eliminación de valores duplicados\n",
    "Procedemos con la eliminacion de registros duplicados."
   ]
  },
  {
   "cell_type": "code",
   "execution_count": 174,
   "metadata": {},
   "outputs": [],
   "source": [
    "df = df.drop_duplicates()"
   ]
  },
  {
   "cell_type": "code",
   "execution_count": 175,
   "metadata": {},
   "outputs": [
    {
     "name": "stdout",
     "output_type": "stream",
     "text": [
      "<class 'pandas.core.frame.DataFrame'>\n",
      "Index: 2215 entries, 0 to 2240\n",
      "Data columns (total 29 columns):\n",
      " #   Column                      Non-Null Count  Dtype         \n",
      "---  ------                      --------------  -----         \n",
      " 0   id_cliente                  2215 non-null   int64         \n",
      " 1   año_nac                     2215 non-null   int64         \n",
      " 2   educacion                   2215 non-null   object        \n",
      " 3   estado_civil                2215 non-null   object        \n",
      " 4   ingresos_usd                2215 non-null   float64       \n",
      " 5   cant_niños_casa             2215 non-null   int64         \n",
      " 6   cant_adolecentes_casa       2215 non-null   int64         \n",
      " 7   fch_alta_cliente            2215 non-null   datetime64[ns]\n",
      " 8   dias_ult_compra             2215 non-null   int64         \n",
      " 9   gasto_total_vinos           2215 non-null   float64       \n",
      " 10  gasto_total_frutas          2215 non-null   float64       \n",
      " 11  gasto_total_carnes_rojas    2215 non-null   float64       \n",
      " 12  gasto_total_carnes_blancas  2215 non-null   float64       \n",
      " 13  gasto_total_dulces          2215 non-null   float64       \n",
      " 14  gasto_total_enlatados       2215 non-null   float64       \n",
      " 15  cant_compras_oferta         2215 non-null   int64         \n",
      " 16  cant_compras_web            2215 non-null   int64         \n",
      " 17  cant_compras_por_catalogo   2215 non-null   int64         \n",
      " 18  cant_compras_en_tienda      2215 non-null   int64         \n",
      " 19  cant_visitas_web_mes        2215 non-null   int64         \n",
      " 20  campaña_mkt_1               2215 non-null   int64         \n",
      " 21  campaña_mkt_2               2215 non-null   int64         \n",
      " 22  campaña_mkt_3               2215 non-null   int64         \n",
      " 23  campaña_mkt_4               2215 non-null   int64         \n",
      " 24  campaña_mkt_5               2215 non-null   int64         \n",
      " 25  quejas                      2215 non-null   int64         \n",
      " 26  id_base_contacto            2215 non-null   int64         \n",
      " 27  cod_retorno_esperado        2215 non-null   int64         \n",
      " 28  respuestas                  2215 non-null   int64         \n",
      "dtypes: datetime64[ns](1), float64(7), int64(19), object(2)\n",
      "memory usage: 519.1+ KB\n"
     ]
    }
   ],
   "source": [
    "df.info()"
   ]
  },
  {
   "cell_type": "markdown",
   "metadata": {},
   "source": [
    "#### Agregado de nuevos atributos\n",
    "Durante la etapa de análisis se detectó la necesidad de contar con una columna la cual consolide el total gastado por cada cliente."
   ]
  },
  {
   "cell_type": "code",
   "execution_count": 176,
   "metadata": {},
   "outputs": [],
   "source": [
    "# Nuevo campo: \"Total Gastado\"\n",
    "df['total_gral_gastado'] = df['gasto_total_vinos']+df['gasto_total_frutas']+df['gasto_total_carnes_rojas']+df['gasto_total_carnes_blancas']+df['gasto_total_dulces']+df['gasto_total_enlatados']"
   ]
  },
  {
   "cell_type": "markdown",
   "metadata": {},
   "source": [
    "#### Publicación de los resultados\n",
    "A continuación se publican los resultados del preprocesamiento del dataframe a un csv."
   ]
  },
  {
   "cell_type": "code",
   "execution_count": 177,
   "metadata": {},
   "outputs": [],
   "source": [
    "ruta_archivo = 'dataset\\data_wrangling\\datos_preprocesados.csv'\n",
    "df.to_csv(ruta_archivo, index=False, sep=\";\")"
   ]
  },
  {
   "cell_type": "code",
   "execution_count": 178,
   "metadata": {},
   "outputs": [],
   "source": [
    "url = 'https://raw.githubusercontent.com/chetincho/proyecto_data_science_ii/main/dataset/data_wrangling/datos_preprocesados.csv'\n",
    "df = pd.read_csv(url, encoding='latin1', delimiter=',')"
   ]
  },
  {
   "cell_type": "code",
   "execution_count": 179,
   "metadata": {},
   "outputs": [
    {
     "name": "stdout",
     "output_type": "stream",
     "text": [
      "<class 'pandas.core.frame.DataFrame'>\n",
      "RangeIndex: 2215 entries, 0 to 2214\n",
      "Data columns (total 30 columns):\n",
      " #   Column                      Non-Null Count  Dtype  \n",
      "---  ------                      --------------  -----  \n",
      " 0   id_cliente                  2215 non-null   int64  \n",
      " 1   aÃÂ±o_nac                  2215 non-null   int64  \n",
      " 2   educacion                   2215 non-null   object \n",
      " 3   estado_civil                2215 non-null   object \n",
      " 4   ingresos_usd                2215 non-null   float64\n",
      " 5   cant_niÃÂ±os_casa          2215 non-null   int64  \n",
      " 6   cant_adolecentes_casa       2215 non-null   int64  \n",
      " 7   fch_alta_cliente            2215 non-null   object \n",
      " 8   dias_ult_compra             2215 non-null   int64  \n",
      " 9   gasto_total_vinos           2215 non-null   float64\n",
      " 10  gasto_total_frutas          2215 non-null   float64\n",
      " 11  gasto_total_carnes_rojas    2215 non-null   float64\n",
      " 12  gasto_total_carnes_blancas  2215 non-null   float64\n",
      " 13  gasto_total_dulces          2215 non-null   float64\n",
      " 14  gasto_total_enlatados       2215 non-null   float64\n",
      " 15  cant_compras_oferta         2215 non-null   int64  \n",
      " 16  cant_compras_web            2215 non-null   int64  \n",
      " 17  cant_compras_por_catalogo   2215 non-null   int64  \n",
      " 18  cant_compras_en_tienda      2215 non-null   int64  \n",
      " 19  cant_visitas_web_mes        2215 non-null   int64  \n",
      " 20  campaÃÂ±a_mkt_1            2215 non-null   int64  \n",
      " 21  campaÃÂ±a_mkt_2            2215 non-null   int64  \n",
      " 22  campaÃÂ±a_mkt_3            2215 non-null   int64  \n",
      " 23  campaÃÂ±a_mkt_4            2215 non-null   int64  \n",
      " 24  campaÃÂ±a_mkt_5            2215 non-null   int64  \n",
      " 25  quejas                      2215 non-null   int64  \n",
      " 26  id_base_contacto            2215 non-null   int64  \n",
      " 27  cod_retorno_esperado        2215 non-null   int64  \n",
      " 28  respuestas                  2215 non-null   int64  \n",
      " 29  total_gral_gastado          2215 non-null   float64\n",
      "dtypes: float64(8), int64(19), object(3)\n",
      "memory usage: 519.3+ KB\n"
     ]
    }
   ],
   "source": [
    "df.info()"
   ]
  },
  {
   "cell_type": "code",
   "execution_count": 180,
   "metadata": {},
   "outputs": [
    {
     "data": {
      "text/html": [
       "<div>\n",
       "<style scoped>\n",
       "    .dataframe tbody tr th:only-of-type {\n",
       "        vertical-align: middle;\n",
       "    }\n",
       "\n",
       "    .dataframe tbody tr th {\n",
       "        vertical-align: top;\n",
       "    }\n",
       "\n",
       "    .dataframe thead th {\n",
       "        text-align: right;\n",
       "    }\n",
       "</style>\n",
       "<table border=\"1\" class=\"dataframe\">\n",
       "  <thead>\n",
       "    <tr style=\"text-align: right;\">\n",
       "      <th></th>\n",
       "      <th>id_cliente</th>\n",
       "      <th>aÃÂ±o_nac</th>\n",
       "      <th>educacion</th>\n",
       "      <th>estado_civil</th>\n",
       "      <th>ingresos_usd</th>\n",
       "      <th>cant_niÃÂ±os_casa</th>\n",
       "      <th>cant_adolecentes_casa</th>\n",
       "      <th>fch_alta_cliente</th>\n",
       "      <th>dias_ult_compra</th>\n",
       "      <th>gasto_total_vinos</th>\n",
       "      <th>...</th>\n",
       "      <th>campaÃÂ±a_mkt_1</th>\n",
       "      <th>campaÃÂ±a_mkt_2</th>\n",
       "      <th>campaÃÂ±a_mkt_3</th>\n",
       "      <th>campaÃÂ±a_mkt_4</th>\n",
       "      <th>campaÃÂ±a_mkt_5</th>\n",
       "      <th>quejas</th>\n",
       "      <th>id_base_contacto</th>\n",
       "      <th>cod_retorno_esperado</th>\n",
       "      <th>respuestas</th>\n",
       "      <th>total_gral_gastado</th>\n",
       "    </tr>\n",
       "  </thead>\n",
       "  <tbody>\n",
       "    <tr>\n",
       "      <th>0</th>\n",
       "      <td>5524</td>\n",
       "      <td>1957</td>\n",
       "      <td>Universitario</td>\n",
       "      <td>Soltero</td>\n",
       "      <td>58138.0</td>\n",
       "      <td>0</td>\n",
       "      <td>0</td>\n",
       "      <td>2012-09-04</td>\n",
       "      <td>58</td>\n",
       "      <td>635.0</td>\n",
       "      <td>...</td>\n",
       "      <td>0</td>\n",
       "      <td>0</td>\n",
       "      <td>0</td>\n",
       "      <td>0</td>\n",
       "      <td>0</td>\n",
       "      <td>0</td>\n",
       "      <td>3</td>\n",
       "      <td>11</td>\n",
       "      <td>1</td>\n",
       "      <td>1617.0</td>\n",
       "    </tr>\n",
       "    <tr>\n",
       "      <th>1</th>\n",
       "      <td>2174</td>\n",
       "      <td>1954</td>\n",
       "      <td>Universitario</td>\n",
       "      <td>Soltero</td>\n",
       "      <td>46344.0</td>\n",
       "      <td>1</td>\n",
       "      <td>1</td>\n",
       "      <td>2014-03-08</td>\n",
       "      <td>38</td>\n",
       "      <td>11.0</td>\n",
       "      <td>...</td>\n",
       "      <td>0</td>\n",
       "      <td>0</td>\n",
       "      <td>0</td>\n",
       "      <td>0</td>\n",
       "      <td>0</td>\n",
       "      <td>0</td>\n",
       "      <td>3</td>\n",
       "      <td>11</td>\n",
       "      <td>0</td>\n",
       "      <td>27.0</td>\n",
       "    </tr>\n",
       "    <tr>\n",
       "      <th>2</th>\n",
       "      <td>4141</td>\n",
       "      <td>1965</td>\n",
       "      <td>Universitario</td>\n",
       "      <td>En pareja</td>\n",
       "      <td>71613.0</td>\n",
       "      <td>0</td>\n",
       "      <td>0</td>\n",
       "      <td>2013-08-21</td>\n",
       "      <td>26</td>\n",
       "      <td>426.0</td>\n",
       "      <td>...</td>\n",
       "      <td>0</td>\n",
       "      <td>0</td>\n",
       "      <td>0</td>\n",
       "      <td>0</td>\n",
       "      <td>0</td>\n",
       "      <td>0</td>\n",
       "      <td>3</td>\n",
       "      <td>11</td>\n",
       "      <td>0</td>\n",
       "      <td>776.0</td>\n",
       "    </tr>\n",
       "    <tr>\n",
       "      <th>3</th>\n",
       "      <td>6182</td>\n",
       "      <td>1984</td>\n",
       "      <td>Universitario</td>\n",
       "      <td>En pareja</td>\n",
       "      <td>26646.0</td>\n",
       "      <td>1</td>\n",
       "      <td>0</td>\n",
       "      <td>2014-02-10</td>\n",
       "      <td>26</td>\n",
       "      <td>11.0</td>\n",
       "      <td>...</td>\n",
       "      <td>0</td>\n",
       "      <td>0</td>\n",
       "      <td>0</td>\n",
       "      <td>0</td>\n",
       "      <td>0</td>\n",
       "      <td>0</td>\n",
       "      <td>3</td>\n",
       "      <td>11</td>\n",
       "      <td>0</td>\n",
       "      <td>53.0</td>\n",
       "    </tr>\n",
       "    <tr>\n",
       "      <th>4</th>\n",
       "      <td>5324</td>\n",
       "      <td>1981</td>\n",
       "      <td>Doctorado</td>\n",
       "      <td>Casado</td>\n",
       "      <td>58293.0</td>\n",
       "      <td>1</td>\n",
       "      <td>0</td>\n",
       "      <td>2014-01-19</td>\n",
       "      <td>94</td>\n",
       "      <td>173.0</td>\n",
       "      <td>...</td>\n",
       "      <td>0</td>\n",
       "      <td>0</td>\n",
       "      <td>0</td>\n",
       "      <td>0</td>\n",
       "      <td>0</td>\n",
       "      <td>0</td>\n",
       "      <td>3</td>\n",
       "      <td>11</td>\n",
       "      <td>0</td>\n",
       "      <td>422.0</td>\n",
       "    </tr>\n",
       "  </tbody>\n",
       "</table>\n",
       "<p>5 rows × 30 columns</p>\n",
       "</div>"
      ],
      "text/plain": [
       "   id_cliente  aÃÂ±o_nac      educacion estado_civil  ingresos_usd  \\\n",
       "0        5524        1957  Universitario      Soltero       58138.0   \n",
       "1        2174        1954  Universitario      Soltero       46344.0   \n",
       "2        4141        1965  Universitario    En pareja       71613.0   \n",
       "3        6182        1984  Universitario    En pareja       26646.0   \n",
       "4        5324        1981      Doctorado       Casado       58293.0   \n",
       "\n",
       "   cant_niÃÂ±os_casa  cant_adolecentes_casa fch_alta_cliente  \\\n",
       "0                   0                      0       2012-09-04   \n",
       "1                   1                      1       2014-03-08   \n",
       "2                   0                      0       2013-08-21   \n",
       "3                   1                      0       2014-02-10   \n",
       "4                   1                      0       2014-01-19   \n",
       "\n",
       "   dias_ult_compra  gasto_total_vinos  ...  campaÃÂ±a_mkt_1  \\\n",
       "0               58              635.0  ...                 0   \n",
       "1               38               11.0  ...                 0   \n",
       "2               26              426.0  ...                 0   \n",
       "3               26               11.0  ...                 0   \n",
       "4               94              173.0  ...                 0   \n",
       "\n",
       "   campaÃÂ±a_mkt_2  campaÃÂ±a_mkt_3  campaÃÂ±a_mkt_4  campaÃÂ±a_mkt_5  \\\n",
       "0                 0                 0                 0                 0   \n",
       "1                 0                 0                 0                 0   \n",
       "2                 0                 0                 0                 0   \n",
       "3                 0                 0                 0                 0   \n",
       "4                 0                 0                 0                 0   \n",
       "\n",
       "   quejas  id_base_contacto  cod_retorno_esperado  respuestas  \\\n",
       "0       0                 3                    11           1   \n",
       "1       0                 3                    11           0   \n",
       "2       0                 3                    11           0   \n",
       "3       0                 3                    11           0   \n",
       "4       0                 3                    11           0   \n",
       "\n",
       "   total_gral_gastado  \n",
       "0              1617.0  \n",
       "1                27.0  \n",
       "2               776.0  \n",
       "3                53.0  \n",
       "4               422.0  \n",
       "\n",
       "[5 rows x 30 columns]"
      ]
     },
     "execution_count": 180,
     "metadata": {},
     "output_type": "execute_result"
    }
   ],
   "source": [
    "df.head()"
   ]
  }
 ],
 "metadata": {
  "kernelspec": {
   "display_name": "Python 3",
   "language": "python",
   "name": "python3"
  },
  "language_info": {
   "codemirror_mode": {
    "name": "ipython",
    "version": 3
   },
   "file_extension": ".py",
   "mimetype": "text/x-python",
   "name": "python",
   "nbconvert_exporter": "python",
   "pygments_lexer": "ipython3",
   "version": "3.11.5"
  }
 },
 "nbformat": 4,
 "nbformat_minor": 2
}
